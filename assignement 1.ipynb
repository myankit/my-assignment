{
 "cells": [
  {
   "cell_type": "code",
   "execution_count": 1,
   "id": "2db839b9",
   "metadata": {},
   "outputs": [],
   "source": [
    "#1. In the below elements which of them are values or an expression? eg:- values can be integer or string and expressions will be mathematical operators."
   ]
  },
  {
   "cell_type": "code",
   "execution_count": 2,
   "id": "ceaae951",
   "metadata": {},
   "outputs": [
    {
     "ename": "SyntaxError",
     "evalue": "EOL while scanning string literal (Temp/ipykernel_13688/3594155963.py, line 1)",
     "output_type": "error",
     "traceback": [
      "\u001b[1;36m  File \u001b[1;32m\"C:\\Users\\DELL\\AppData\\Local\\Temp/ipykernel_13688/3594155963.py\"\u001b[1;36m, line \u001b[1;32m1\u001b[0m\n\u001b[1;33m    'hello-string\u001b[0m\n\u001b[1;37m                 ^\u001b[0m\n\u001b[1;31mSyntaxError\u001b[0m\u001b[1;31m:\u001b[0m EOL while scanning string literal\n"
     ]
    }
   ],
   "source": [
    "'hello-string\n",
    "6-integer\n",
    "*,-,/,+-expression"
   ]
  },
  {
   "cell_type": "code",
   "execution_count": null,
   "id": "64fd964a",
   "metadata": {},
   "outputs": [],
   "source": [
    "#What is the difference between string and variable?\n",
    "ans-a string is a collection of characters which is encloed in \"string\" format whereas a variable is something which stores the data."
   ]
  },
  {
   "cell_type": "code",
   "execution_count": 5,
   "id": "7ba81803",
   "metadata": {},
   "outputs": [
    {
     "ename": "SyntaxError",
     "evalue": "invalid syntax (Temp/ipykernel_13688/558202362.py, line 2)",
     "output_type": "error",
     "traceback": [
      "\u001b[1;36m  File \u001b[1;32m\"C:\\Users\\DELL\\AppData\\Local\\Temp/ipykernel_13688/558202362.py\"\u001b[1;36m, line \u001b[1;32m2\u001b[0m\n\u001b[1;33m    data type represents the type of data stored into a variable.\u001b[0m\n\u001b[1;37m         ^\u001b[0m\n\u001b[1;31mSyntaxError\u001b[0m\u001b[1;31m:\u001b[0m invalid syntax\n"
     ]
    }
   ],
   "source": [
    "#Describe three different data types.\n",
    "data type represents the type of data stored into a variable.\n",
    "for example-\n",
    "string datatype-a string is represeted by a gruop of characters which are enclosed in \"\" for example \"ankit is learning python\"\n",
    "strings are immutable which means the content of string can not be changed.\n",
    "\n",
    "list datatype-a list is another datatype in python which can store different types of elements in it like string,complex number,integer,etc\n",
    "the elements of list are enclosed in [].the elements of a list can be modified as and when requires hence,a list is a mutable.\n",
    "it is most used datatype in python.\n",
    "\n",
    "tuples datatype-a tuple is another datatype which stores a group of elements or items.tuples are immutable which means we cannot modify\n",
    "its elements like lists.the elemets of tuples are enclosed in ().henece we cannot perform operations like append()\n",
    "insert() etc.slicing can be done in tuples.we can also do finding length,concatenation on tuples."
   ]
  },
  {
   "cell_type": "code",
   "execution_count": 4,
   "id": "1894e51d",
   "metadata": {},
   "outputs": [],
   "source": [
    "#. What is an expression made up of? What do all expressions do?"
   ]
  },
  {
   "cell_type": "code",
   "execution_count": null,
   "id": "40213374",
   "metadata": {},
   "outputs": [],
   "source": [
    "#5. This assignment statements, like spam = 10. What is the difference between an expression and a statement?"
   ]
  },
  {
   "cell_type": "code",
   "execution_count": null,
   "id": "222a37b8",
   "metadata": {},
   "outputs": [],
   "source": [
    "#6. After running the following code, what does the variable bacon contain?\n",
    "bacon = 22\n",
    "bacon + 1\n",
    "ans-23\n"
   ]
  },
  {
   "cell_type": "code",
   "execution_count": null,
   "id": "2a9b7b23",
   "metadata": {},
   "outputs": [],
   "source": [
    "7. What should the values of the following two terms be?\n",
    "'spam' + 'spamspam'\n",
    "'spam' * 3\n",
    "ans-\"spamspamspam\""
   ]
  },
  {
   "cell_type": "raw",
   "id": "e48b6f05",
   "metadata": {},
   "source": [
    "8. Why is eggs a valid variable name while 100 is invalid?\n",
    "ans.we can give any name to a variable but in python a variable cannot start with a number."
   ]
  },
  {
   "cell_type": "code",
   "execution_count": null,
   "id": "b8b829de",
   "metadata": {},
   "outputs": [],
   "source": [
    "9. What three functions can be used to get the integer, floating-point number, or string version of a value?"
   ]
  },
  {
   "cell_type": "raw",
   "id": "c7e763c2",
   "metadata": {},
   "source": [
    "10. Why does this expression cause an error? How can you fix it?\n",
    "'I have eaten ' + 99 + ' burritos.'\n",
    "ans=we can only concatenate str to str,not str to integer\n",
    "we can fix it by converting integer into string like 99 can be written as \"99\".\n"
   ]
  }
 ],
 "metadata": {
  "kernelspec": {
   "display_name": "Python 3 (ipykernel)",
   "language": "python",
   "name": "python3"
  },
  "language_info": {
   "codemirror_mode": {
    "name": "ipython",
    "version": 3
   },
   "file_extension": ".py",
   "mimetype": "text/x-python",
   "name": "python",
   "nbconvert_exporter": "python",
   "pygments_lexer": "ipython3",
   "version": "3.9.7"
  }
 },
 "nbformat": 4,
 "nbformat_minor": 5
}
