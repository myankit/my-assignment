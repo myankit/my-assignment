{
 "cells": [
  {
   "cell_type": "code",
   "execution_count": 2,
   "id": "cf107bf8",
   "metadata": {},
   "outputs": [],
   "source": [
    "#What are the two values of the Boolean data type? How do you write them?\n",
    "#the boolean data type is built in datatype in python.there are two values of boolean data type ie. True and false.(1-True,0-False)"
   ]
  },
  {
   "cell_type": "code",
   "execution_count": 4,
   "id": "2085b6af",
   "metadata": {},
   "outputs": [
    {
     "ename": "SyntaxError",
     "evalue": "invalid syntax (Temp/ipykernel_1088/2141885812.py, line 2)",
     "output_type": "error",
     "traceback": [
      "\u001b[1;36m  File \u001b[1;32m\"C:\\Users\\DELL\\AppData\\Local\\Temp/ipykernel_1088/2141885812.py\"\u001b[1;36m, line \u001b[1;32m2\u001b[0m\n\u001b[1;33m    there are three main boolean operators:\u001b[0m\n\u001b[1;37m          ^\u001b[0m\n\u001b[1;31mSyntaxError\u001b[0m\u001b[1;31m:\u001b[0m invalid syntax\n"
     ]
    }
   ],
   "source": [
    "#. What are the three different types of Boolean operators?\n",
    "#there are three main boolean operators:\n",
    "    #1 and boolean operator\n",
    "    #2 or booleqan opeartor\n",
    "    #3 not boolean operator\n"
   ]
  },
  {
   "cell_type": "code",
   "execution_count": null,
   "id": "e9598b47",
   "metadata": {},
   "outputs": [],
   "source": [
    "#. Make a list of each Boolean operator's truth tables (i.e. every possible combination of Boolean values for the operator and what it evaluate )."
   ]
  },
  {
   "cell_type": "code",
   "execution_count": null,
   "id": "546c00d9",
   "metadata": {},
   "outputs": [],
   "source": [
    "#. What are the values of the following expressions?\n",
    "#(5 > 4) and (3 == 5)--> false\n",
    "#not (5 > 4)-->false\n",
    "#(5 > 4) or (3 == 5)-->true\n",
    "#not ((5 > 4) or (3 == 5))--false\n",
    "#(True and True) and (True == False)--false\n",
    "#(not False) or (not True)--True"
   ]
  },
  {
   "cell_type": "code",
   "execution_count": null,
   "id": "df8b448f",
   "metadata": {},
   "outputs": [],
   "source": [
    "#What are the six comparison operators?\n",
    "#less than(<)\n",
    "#less than or equal to(<=)\n",
    "#equal to(==)\n",
    "#greater than(>)\n",
    "#greater than or equal to(>=)\n",
    "#not equak to(!=)\n",
    "#it always reurn result as true and false."
   ]
  },
  {
   "cell_type": "code",
   "execution_count": null,
   "id": "e39f6021",
   "metadata": {},
   "outputs": [],
   "source": [
    "#How do you tell the difference between the equal to and assignment operators?Describe a condition and when you would use one.\n",
    " "
   ]
  },
  {
   "cell_type": "code",
   "execution_count": 9,
   "id": "6407acf7",
   "metadata": {},
   "outputs": [
    {
     "name": "stdout",
     "output_type": "stream",
     "text": [
      "ham\n",
      "spam\n",
      "spam\n"
     ]
    }
   ],
   "source": [
    "#Identify the three blocks in this code:\n",
    "spam = 0\n",
    "if spam == 10:\n",
    "    print('eggs')\n",
    "if spam > 5:\n",
    "    print('bacon')\n",
    "else:\n",
    "    print('ham')\n",
    "    print('spam')\n",
    "    print('spam')\n"
   ]
  },
  {
   "cell_type": "code",
   "execution_count": 17,
   "id": "5d1db2e5",
   "metadata": {},
   "outputs": [
    {
     "name": "stdout",
     "output_type": "stream",
     "text": [
      "please enter an integer3\n",
      "greetings\n"
     ]
    }
   ],
   "source": [
    "#. Write code that prints Hello if 1 is stored in spam, prints Howdy if 2 is stored in spam, and prints Greetings! if anything else is stored in spam.\n",
    "\n",
    "spam=int(input(\"please enter an integer\"))\n",
    "if spam==1:print('hello')\n",
    "elif spam==2:print('howdy')\n",
    "else:print('greetings')"
   ]
  },
  {
   "cell_type": "code",
   "execution_count": null,
   "id": "a3fb5af4",
   "metadata": {},
   "outputs": [],
   "source": [
    "#If your programme is stuck in an endless loop, what keys you’ll press?\n",
    "# we can press CTRL+C to stop."
   ]
  },
  {
   "cell_type": "code",
   "execution_count": null,
   "id": "94049b7c",
   "metadata": {},
   "outputs": [],
   "source": [
    "#. How can you tell the difference between break and continue?\n",
    "#break and continue statments are used with for and while loops.the break statement jumps out of the closest enclosed loop and continue jumps to the top of the closest enclosing loop\n"
   ]
  },
  {
   "cell_type": "code",
   "execution_count": null,
   "id": "c3ad374c",
   "metadata": {},
   "outputs": [],
   "source": [
    "#In a for loop, what is the difference between range(10), range(0, 10), and range(0, 10, 1)?\n",
    "# there is no differnce between them..all of them specify the dame thing.they are just way to write."
   ]
  },
  {
   "cell_type": "code",
   "execution_count": 19,
   "id": "4eab061f",
   "metadata": {},
   "outputs": [
    {
     "name": "stdout",
     "output_type": "stream",
     "text": [
      "1\n",
      "2\n",
      "3\n",
      "4\n",
      "5\n",
      "6\n",
      "7\n",
      "8\n",
      "9\n",
      "10\n"
     ]
    }
   ],
   "source": [
    "#Write a short program that prints the numbers 1 to 10 using a for loop. Then write an equivalent program that prints the numbers 1 to 10 using a while loop.\n",
    "for num in range(1,11):print(num)"
   ]
  },
  {
   "cell_type": "code",
   "execution_count": 21,
   "id": "bff03b19",
   "metadata": {},
   "outputs": [
    {
     "name": "stdout",
     "output_type": "stream",
     "text": [
      "1\n",
      "2\n",
      "3\n",
      "4\n",
      "5\n",
      "6\n",
      "7\n",
      "8\n",
      "9\n",
      "10\n"
     ]
    }
   ],
   "source": [
    "i=1\n",
    "while i<=10:\n",
    "    print(i)\n",
    "    i=i+1"
   ]
  },
  {
   "cell_type": "code",
   "execution_count": null,
   "id": "3273f449",
   "metadata": {},
   "outputs": [],
   "source": [
    "#If you had a function named bacon() inside a module named spam, how would you call it after importing spam?\n",
    "#we can call the function as (object.attribute) after importing spam.here attribute is function that we want to call.\n",
    "eg:\n",
    "    #import spam\n",
    "   # spam.bacon()"
   ]
  }
 ],
 "metadata": {
  "kernelspec": {
   "display_name": "Python 3 (ipykernel)",
   "language": "python",
   "name": "python3"
  },
  "language_info": {
   "codemirror_mode": {
    "name": "ipython",
    "version": 3
   },
   "file_extension": ".py",
   "mimetype": "text/x-python",
   "name": "python",
   "nbconvert_exporter": "python",
   "pygments_lexer": "ipython3",
   "version": "3.9.7"
  }
 },
 "nbformat": 4,
 "nbformat_minor": 5
}
